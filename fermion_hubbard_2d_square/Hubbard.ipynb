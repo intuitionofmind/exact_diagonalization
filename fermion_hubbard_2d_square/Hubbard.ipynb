{
 "cells": [
  {
   "cell_type": "markdown",
   "metadata": {},
   "source": [
    "\\section{Free spinless fermions}\n",
    "Spinless free fermions on a lattice can be written as\n",
    "\\begin{equation}\n",
    "  H_{0}=-t\\sum_{\\langle{ij}\\rangle}(c_{i}^{\\dagger}c_{j}+h.c.),\n",
    " \\label{<+label+>}\n",
    "\\end{equation}\n",
    "where $\\{c_{i}^{\\dagger}, c_{j}\\}=\\delta_{i,j}$. In the first place, let us consider the simplest lattice, namely a one dimensional bipartite ring with $L$ (even) sites. With periodic boundary condition (PBC), by a discrete Fourier transformation\n",
    "\\begin{equation}\n",
    " c_{j}=\\frac{1}{\\sqrt{L}}\\sum_{k}e^{\\text{i}kj}c_{k},\n",
    "\\label{}\n",
    "\\end{equation}\n",
    "with the quantization condition imposed by the boundary condition. Then the Hamiltonian becomes\n",
    "\n",
    "\\begin{equation}\n",
    "H_{0}=-t\\sum_{k}(2\\cos{k})c_{k}^{\\dagger}c_{k}.\n",
    "\\label{}\n",
    "\\end{equation}\n",
    "suppose there are $N, (N \\leq L)$ fermions in the system.\n",
    "\n",
    "\\subsection{Ground state}\n",
    "The ground state is simply the one in which the lowest $N$ orbitals are occupied. Different boundary conditions also impose different quantization conditions of $k$, for examples,\n",
    "\\begin{itemize}\n",
    "\\item \\textbf{Periodic boundary condition} (PBC). $kL=2n\\pi, n\\in{Z}$. If $N$ is even, there is a \\textbf{two-fold ground state degeneracy}. Otherwise not.\n",
    "\\item \\textbf{Anti-periodic boundary condition} (APBC). $kL=(2n+1)\\pi, n\\in{Z}$. If $N$ is odd, there is a two-fold ground state degeneracy. Otherwise not.\n",
    "\\end{itemize}\n",
    "\n",
    "For two pieces of free fermions $\\sigma=\\uparrow, \\downarrow$, they have no interactions and can be treated separately as $H_{0}=-t\\sum_{k}(2\\cos{k})c_{k}^{\\dagger}c_{k}-t\\sum_{k{'}}(2\\cos{k{'}})c_{k{'}}^{\\dagger}c_{k{'}}$.\n"
   ]
  },
  {
   "cell_type": "code",
   "execution_count": 106,
   "metadata": {},
   "outputs": [
    {
     "name": "stdout",
     "output_type": "stream",
     "text": [
      "Ground state energy of free electrons: -12.94427190999916\n"
     ]
    }
   ],
   "source": [
    "import numpy as np\n",
    "\n",
    "L = 10\n",
    "numFermion = 5\n",
    "numFermionAnother = 5\n",
    "\n",
    "gsE = 0.0\n",
    "for i in range(-int(numFermion / 2), int((numFermion+1) / 2), 1):\n",
    "    k = 2*np.pi*i / L\n",
    "    # print(i)\n",
    "    gsE += -2*np.cos(k)\n",
    "    \n",
    "for i in range(-int(numFermionAnother / 2), int((numFermionAnother+1) / 2), 1):\n",
    "    k = 2*np.pi*i / L\n",
    "    # print(i)\n",
    "    gsE += -2*np.cos(k)\n",
    "\n",
    "print('Ground state energy of free electrons:', gsE)\n"
   ]
  },
  {
   "cell_type": "markdown",
   "metadata": {},
   "source": [
    "\\subsection{Lieb-Wu solution}\n",
    "\n",
    "The exact solution for 1D half-filed Hubbard model is\n",
    "\\begin{equation}\\label{eq}\n",
    "E_{0}(N/2, N/2)=-4N\\int_{0}^{\\infty}\\frac{J_{0}(\\omega)J_{1}(\\omega)}{\\omega\\left(1+e^{\\omega U/2}\\right)}d\\omega\n",
    "\\end{equation}\n",
    "where $J_{0, 1}$ are the Bessel function of first and second order."
   ]
  },
  {
   "cell_type": "code",
   "execution_count": 105,
   "metadata": {},
   "outputs": [
    {
     "name": "stderr",
     "output_type": "stream",
     "text": [
      "/Users/wayne/Library/Python/3.7/lib/python/site-packages/ipykernel_launcher.py:10: IntegrationWarning: The maximum number of subdivisions (50) has been achieved.\n",
      "  If increasing the limit yields no improvement it is advised to analyze \n",
      "  the integrand in order to determine the difficulties.  If the position of a \n",
      "  local difficulty can be determined (singularity, discontinuity) one will \n",
      "  probably gain from splitting up the interval and calling the integrator \n",
      "  on the subranges.  Perhaps a special-purpose integrator should be used.\n",
      "  # Remove the CWD from sys.path while we load stuff.\n"
     ]
    },
    {
     "data": {
      "text/plain": [
       "(-1273.2361117393589, 1.7693385239667343)"
      ]
     },
     "execution_count": 105,
     "metadata": {},
     "output_type": "execute_result"
    }
   ],
   "source": [
    "import numpy as np\n",
    "import scipy.integrate as integrate\n",
    "import scipy.special as special\n",
    "\n",
    "U = 0.0\n",
    "\n",
    "def Energy(x):\n",
    "    return -4*L*(special.jv(0, x)*special.jv(1, x)) / (x*(1.0+np.exp(x*0.5*U)))\n",
    "\n",
    "integrate.quad(lambda x: Energy(x), 0, 1000)"
   ]
  },
  {
   "cell_type": "code",
   "execution_count": null,
   "metadata": {},
   "outputs": [],
   "source": []
  }
 ],
 "metadata": {
  "author": "Note on Hubbard model",
  "hide_input": false,
  "kernelspec": {
   "display_name": "Python 3",
   "language": "python",
   "name": "python3"
  },
  "language_info": {
   "codemirror_mode": {
    "name": "ipython",
    "version": 3
   },
   "file_extension": ".py",
   "mimetype": "text/x-python",
   "name": "python",
   "nbconvert_exporter": "python",
   "pygments_lexer": "ipython3",
   "version": "3.7.1"
  },
  "latex_envs": {
   "LaTeX_envs_menu_present": true,
   "autoclose": false,
   "autocomplete": true,
   "bibliofile": "biblio.bib",
   "cite_by": "apalike",
   "current_citInitial": 1,
   "eqLabelWithNumbers": true,
   "eqNumInitial": 1,
   "hotkeys": {
    "equation": "Ctrl-E",
    "itemize": "Ctrl-I"
   },
   "labels_anchors": false,
   "latex_user_defs": false,
   "report_style_numbering": false,
   "user_envs_cfg": false
  },
  "toc": {
   "base_numbering": 1,
   "nav_menu": {},
   "number_sections": true,
   "sideBar": true,
   "skip_h1_title": false,
   "title_cell": "Table of Contents",
   "title_sidebar": "Contents",
   "toc_cell": false,
   "toc_position": {},
   "toc_section_display": true,
   "toc_window_display": false
  }
 },
 "nbformat": 4,
 "nbformat_minor": 2
}
